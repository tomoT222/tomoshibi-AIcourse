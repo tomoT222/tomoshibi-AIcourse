{
 "cells": [
  {
   "cell_type": "code",
   "execution_count": null,
   "id": "b02cc05d",
   "metadata": {
    "vscode": {
     "languageId": "plaintext"
    }
   },
   "outputs": [],
   "source": [
    "# Dogクラスの定義(favorite属性とlikeメソッドを追加してください)\n",
    "class Dog:\n",
    "    def __init__(self, name, favorite):\n",
    "        self.name = name\n",
    "        self.favorite = favorite\n",
    "\n",
    "    def bark(self):\n",
    "        print(f\"{self.name}がワン！と吠えます。\")\n",
    "    \n",
    "    def like(self):\n",
    "        print(f\"{self.name}の好物は{self.favorite}です。\")\n",
    "\n",
    "# Dogクラスのインスタンスを作成 (適切な初期化を行ってください)\n",
    "pochi = Dog(\"ポチ\", \"牛肉\")\n",
    "shiro = Dog(\"シロ\", \"おもちゃ\")\n",
    "\n",
    "# インスタンスのメソッドを呼び出す\n",
    "pochi.bark()  # 出力: ポチがワン！と吠えます。\n",
    "shiro.bark()  # 出力: シロがワン！と吠えます。\n",
    "\n",
    "# 以下で実装したlikeメソッドを呼び出してください\n",
    "pochi.like()  # 出力: ポチの好物は牛肉です。\n",
    "shiro.like()  # 出力: シロの好物はおもちゃです。"
   ]
  }
 ],
 "metadata": {
  "language_info": {
   "name": "python"
  }
 },
 "nbformat": 4,
 "nbformat_minor": 5
}
