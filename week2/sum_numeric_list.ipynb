{
 "cells": [
  {
   "cell_type": "code",
   "execution_count": null,
   "id": "8d5260eb",
   "metadata": {
    "vscode": {
     "languageId": "plaintext"
    }
   },
   "outputs": [],
   "source": [
    "def sum_numeric_list(data):\n",
    "    total = 0\n",
    "    # ここに処理を記述\n",
    "    for item in data:\n",
    "        try:\n",
    "            total += int(item)\n",
    "        except ValueError:\n",
    "            print(f\"無効な値が含まれています：{item}\")\n",
    "\n",
    "    return total\n",
    "\n",
    "test_list1 = [1, 2, 3, 4, 5]\n",
    "test_list2 = [1, \"hello\", 3, \"world\", 5]\n",
    "print(f\"リスト1の合計: {sum_numeric_list(test_list1)}\")\n",
    "print(f\"リスト2の合計: {sum_numeric_list(test_list2)}\")"
   ]
  }
 ],
 "metadata": {
  "language_info": {
   "name": "python"
  }
 },
 "nbformat": 4,
 "nbformat_minor": 5
}
