{
 "cells": [
  {
   "cell_type": "code",
   "execution_count": null,
   "id": "9294502e",
   "metadata": {
    "vscode": {
     "languageId": "plaintext"
    }
   },
   "outputs": [],
   "source": [
    "class Rectangle:\n",
    "    def __init__(self, name, width, height):\n",
    "        self.name = name\n",
    "        self.width = width\n",
    "        self.height = height\n",
    "    \n",
    "    def area(self):\n",
    "        print(f\"{self.name}の面積：{self.width * self.height}\")\n",
    "    \n",
    "    def perimeter(self):\n",
    "        print(f\"{self.name}の周囲長：{(self.width + self.height) * 2}\")\n",
    "\n",
    "\n",
    "rec1 = Rectangle(\"長方形1\", 3, 5)\n",
    "rec1.area()\n",
    "rec1.perimeter()\n",
    "\n",
    "rec2 = Rectangle(\"長方形2\", 100, 520)\n",
    "rec2.area()\n",
    "rec2.perimeter()\n",
    "\n",
    "class Square(Rectangle):\n",
    "    def __init__(self, name, side):\n",
    "        super().__init__(name, side, side)\n",
    "\n",
    "sq = Square(\"正方形1\", 25)\n",
    "sq.area()\n",
    "sq.perimeter()"
   ]
  }
 ],
 "metadata": {
  "language_info": {
   "name": "python"
  }
 },
 "nbformat": 4,
 "nbformat_minor": 5
}
